{
 "cells": [
  {
   "cell_type": "markdown",
   "id": "c8f61f10",
   "metadata": {},
   "source": [
    "## Study of effect of national factors that influence home prices in US in the past 20 years"
   ]
  },
  {
   "cell_type": "markdown",
   "id": "c562e5a1",
   "metadata": {},
   "source": [
    "**Task** - Using publically available data for the national factors that impact supply and demand of homes in US, build a model to study the effect of these variables on home prices."
   ]
  },
  {
   "cell_type": "markdown",
   "id": "3497599c",
   "metadata": {},
   "source": [
    "**Approach**- The following variables are chosen for the study"
   ]
  },
  {
   "cell_type": "markdown",
   "id": "1d8dff07",
   "metadata": {},
   "source": [
    "| KEY FACTOR                        | \n",
    "| --------------------------------- |  \n",
    "| Unemployment Rate                 |\n",
    "| Per Capita GDP                    |                      \n",
    "| Median Household Income           |\n",
    "| Construction Prices               |\n",
    "| CPI (Consumer Price Index)                               |\n",
    "| Interest Rates                    |\n",
    "| Number of new houses supplied     |\n",
    "| Working Population                |\n",
    "| Urban Population                  |\n",
    "| Percentage of population above 65 |\n",
    "| Housing subsidies                 |\n",
    "| Number of Households              |"
   ]
  },
  {
   "cell_type": "markdown",
   "id": "e20bf7ee",
   "metadata": {},
   "source": [
    "As a proxy to the home prices, S&P CASE-SHILLER Index is used.\n",
    "\n",
    "Most of the data is downloaded from [https://fred.stlouisfed.org/].\n",
    "\n",
    "Data for all the variables is downloaded, preprocessed and combined to create a datset. Data for different variables had different frequencies. So, to combine the data, necessary changes are made."
   ]
  },
  {
   "cell_type": "code",
   "execution_count": 2,
   "id": "5bd30240",
   "metadata": {},
   "outputs": [],
   "source": [
    "# Impoprt Libraries\n",
    "import pandas as pd\n",
    "import numpy as np\n",
    "import matplotlib.pyplot as plt\n",
    "import seaborn as sns\n",
    "import warnings\n",
    "warnings.filterwarnings('ignore')"
   ]
  },
  {
   "cell_type": "code",
   "execution_count": 3,
   "id": "5f9bfe36",
   "metadata": {},
   "outputs": [],
   "source": [
    "# Loading CASE-SHILLER data\n",
    "\n",
    "shiller = pd.read_excel(r'F:\\JUPTER NOTEBOOK\\RAVI SHANKAR PROJECTS\\US HOME PRICES\\HPI.xls', skiprows=1)\n",
    "\n",
    "shiller = shiller[shiller[\"Date\"] >= \"2001-01-01\"]"
   ]
  },
  {
   "cell_type": "code",
   "execution_count": 4,
   "id": "872ac6e8",
   "metadata": {},
   "outputs": [
    {
     "data": {
      "text/html": [
       "<div>\n",
       "<style scoped>\n",
       "    .dataframe tbody tr th:only-of-type {\n",
       "        vertical-align: middle;\n",
       "    }\n",
       "\n",
       "    .dataframe tbody tr th {\n",
       "        vertical-align: top;\n",
       "    }\n",
       "\n",
       "    .dataframe thead th {\n",
       "        text-align: right;\n",
       "    }\n",
       "</style>\n",
       "<table border=\"1\" class=\"dataframe\">\n",
       "  <thead>\n",
       "    <tr style=\"text-align: right;\">\n",
       "      <th></th>\n",
       "      <th>Date</th>\n",
       "      <th>CSUSHPISA</th>\n",
       "    </tr>\n",
       "  </thead>\n",
       "  <tbody>\n",
       "    <tr>\n",
       "      <th>12</th>\n",
       "      <td>2001-01-01</td>\n",
       "      <td>109.846</td>\n",
       "    </tr>\n",
       "    <tr>\n",
       "      <th>13</th>\n",
       "      <td>2001-02-01</td>\n",
       "      <td>110.500</td>\n",
       "    </tr>\n",
       "    <tr>\n",
       "      <th>14</th>\n",
       "      <td>2001-03-01</td>\n",
       "      <td>111.109</td>\n",
       "    </tr>\n",
       "    <tr>\n",
       "      <th>15</th>\n",
       "      <td>2001-04-01</td>\n",
       "      <td>111.652</td>\n",
       "    </tr>\n",
       "    <tr>\n",
       "      <th>16</th>\n",
       "      <td>2001-05-01</td>\n",
       "      <td>112.164</td>\n",
       "    </tr>\n",
       "  </tbody>\n",
       "</table>\n",
       "</div>"
      ],
      "text/plain": [
       "         Date  CSUSHPISA\n",
       "12 2001-01-01    109.846\n",
       "13 2001-02-01    110.500\n",
       "14 2001-03-01    111.109\n",
       "15 2001-04-01    111.652\n",
       "16 2001-05-01    112.164"
      ]
     },
     "execution_count": 4,
     "metadata": {},
     "output_type": "execute_result"
    }
   ],
   "source": [
    "# Read the first 5 rows of the Case chiller index \n",
    "shiller.head()"
   ]
  },
  {
   "cell_type": "code",
   "execution_count": 5,
   "id": "0527216f",
   "metadata": {},
   "outputs": [
    {
     "data": {
      "text/plain": [
       "Date         datetime64[ns]\n",
       "CSUSHPISA           float64\n",
       "dtype: object"
      ]
     },
     "execution_count": 5,
     "metadata": {},
     "output_type": "execute_result"
    }
   ],
   "source": [
    "# Check the data type of data\n",
    "shiller.dtypes"
   ]
  },
  {
   "cell_type": "code",
   "execution_count": 6,
   "id": "89c20ae0",
   "metadata": {},
   "outputs": [],
   "source": [
    "# Extract year from date and create year column\n",
    "shiller['Year'] = shiller['Date'].dt.year"
   ]
  },
  {
   "cell_type": "code",
   "execution_count": 7,
   "id": "80d345b5",
   "metadata": {},
   "outputs": [],
   "source": [
    "# Extract month from date and create month column\n",
    "shiller['Month'] = shiller['Date'].dt.month"
   ]
  },
  {
   "cell_type": "code",
   "execution_count": 8,
   "id": "ebd46f31",
   "metadata": {},
   "outputs": [
    {
     "data": {
      "text/html": [
       "<div>\n",
       "<style scoped>\n",
       "    .dataframe tbody tr th:only-of-type {\n",
       "        vertical-align: middle;\n",
       "    }\n",
       "\n",
       "    .dataframe tbody tr th {\n",
       "        vertical-align: top;\n",
       "    }\n",
       "\n",
       "    .dataframe thead th {\n",
       "        text-align: right;\n",
       "    }\n",
       "</style>\n",
       "<table border=\"1\" class=\"dataframe\">\n",
       "  <thead>\n",
       "    <tr style=\"text-align: right;\">\n",
       "      <th></th>\n",
       "      <th>Date</th>\n",
       "      <th>CSUSHPISA</th>\n",
       "      <th>Year</th>\n",
       "      <th>Month</th>\n",
       "    </tr>\n",
       "  </thead>\n",
       "  <tbody>\n",
       "    <tr>\n",
       "      <th>12</th>\n",
       "      <td>2001-01-01</td>\n",
       "      <td>109.846</td>\n",
       "      <td>2001</td>\n",
       "      <td>1</td>\n",
       "    </tr>\n",
       "    <tr>\n",
       "      <th>13</th>\n",
       "      <td>2001-02-01</td>\n",
       "      <td>110.500</td>\n",
       "      <td>2001</td>\n",
       "      <td>2</td>\n",
       "    </tr>\n",
       "    <tr>\n",
       "      <th>14</th>\n",
       "      <td>2001-03-01</td>\n",
       "      <td>111.109</td>\n",
       "      <td>2001</td>\n",
       "      <td>3</td>\n",
       "    </tr>\n",
       "    <tr>\n",
       "      <th>15</th>\n",
       "      <td>2001-04-01</td>\n",
       "      <td>111.652</td>\n",
       "      <td>2001</td>\n",
       "      <td>4</td>\n",
       "    </tr>\n",
       "    <tr>\n",
       "      <th>16</th>\n",
       "      <td>2001-05-01</td>\n",
       "      <td>112.164</td>\n",
       "      <td>2001</td>\n",
       "      <td>5</td>\n",
       "    </tr>\n",
       "  </tbody>\n",
       "</table>\n",
       "</div>"
      ],
      "text/plain": [
       "         Date  CSUSHPISA  Year  Month\n",
       "12 2001-01-01    109.846  2001      1\n",
       "13 2001-02-01    110.500  2001      2\n",
       "14 2001-03-01    111.109  2001      3\n",
       "15 2001-04-01    111.652  2001      4\n",
       "16 2001-05-01    112.164  2001      5"
      ]
     },
     "execution_count": 8,
     "metadata": {},
     "output_type": "execute_result"
    }
   ],
   "source": [
    "shiller.head()"
   ]
  },
  {
   "cell_type": "code",
   "execution_count": 9,
   "id": "cd6e8b6d",
   "metadata": {},
   "outputs": [
    {
     "data": {
      "text/plain": [
       "Date         datetime64[ns]\n",
       "CSUSHPISA           float64\n",
       "Year                  int64\n",
       "Month                 int64\n",
       "dtype: object"
      ]
     },
     "execution_count": 9,
     "metadata": {},
     "output_type": "execute_result"
    }
   ],
   "source": [
    "shiller.dtypes"
   ]
  },
  {
   "cell_type": "code",
   "execution_count": 10,
   "id": "bd7e41be",
   "metadata": {},
   "outputs": [
    {
     "data": {
      "text/plain": [
       "(272, 4)"
      ]
     },
     "execution_count": 10,
     "metadata": {},
     "output_type": "execute_result"
    }
   ],
   "source": [
    "# Checking data shape\n",
    "shiller.shape"
   ]
  },
  {
   "cell_type": "code",
   "execution_count": 11,
   "id": "29dc360d",
   "metadata": {},
   "outputs": [
    {
     "data": {
      "text/html": [
       "<div>\n",
       "<style scoped>\n",
       "    .dataframe tbody tr th:only-of-type {\n",
       "        vertical-align: middle;\n",
       "    }\n",
       "\n",
       "    .dataframe tbody tr th {\n",
       "        vertical-align: top;\n",
       "    }\n",
       "\n",
       "    .dataframe thead th {\n",
       "        text-align: right;\n",
       "    }\n",
       "</style>\n",
       "<table border=\"1\" class=\"dataframe\">\n",
       "  <thead>\n",
       "    <tr style=\"text-align: right;\">\n",
       "      <th></th>\n",
       "      <th>Date</th>\n",
       "      <th>unemp</th>\n",
       "    </tr>\n",
       "  </thead>\n",
       "  <tbody>\n",
       "    <tr>\n",
       "      <th>0</th>\n",
       "      <td>2000-01-01</td>\n",
       "      <td>4.0</td>\n",
       "    </tr>\n",
       "    <tr>\n",
       "      <th>1</th>\n",
       "      <td>2000-02-01</td>\n",
       "      <td>4.1</td>\n",
       "    </tr>\n",
       "    <tr>\n",
       "      <th>2</th>\n",
       "      <td>2000-03-01</td>\n",
       "      <td>4.0</td>\n",
       "    </tr>\n",
       "    <tr>\n",
       "      <th>3</th>\n",
       "      <td>2000-04-01</td>\n",
       "      <td>3.8</td>\n",
       "    </tr>\n",
       "    <tr>\n",
       "      <th>4</th>\n",
       "      <td>2000-05-01</td>\n",
       "      <td>4.0</td>\n",
       "    </tr>\n",
       "  </tbody>\n",
       "</table>\n",
       "</div>"
      ],
      "text/plain": [
       "        Date  unemp\n",
       "0 2000-01-01    4.0\n",
       "1 2000-02-01    4.1\n",
       "2 2000-03-01    4.0\n",
       "3 2000-04-01    3.8\n",
       "4 2000-05-01    4.0"
      ]
     },
     "execution_count": 11,
     "metadata": {},
     "output_type": "execute_result"
    }
   ],
   "source": [
    "# Reading Unemployment Rate Data into a dataframe\n",
    "unemp = pd.read_excel(r'F:\\JUPTER NOTEBOOK\\RAVI SHANKAR PROJECTS\\US HOME PRICES\\UNEMPLOYMENT.xls', \\\n",
    "                      names = ['Date', 'unemp'])\n",
    "unemp.head()"
   ]
  },
  {
   "cell_type": "code",
   "execution_count": 12,
   "id": "f055a88b",
   "metadata": {},
   "outputs": [
    {
     "data": {
      "text/plain": [
       "(284, 2)"
      ]
     },
     "execution_count": 12,
     "metadata": {},
     "output_type": "execute_result"
    }
   ],
   "source": [
    "#checking unemployment data shape\n",
    "unemp.shape"
   ]
  },
  {
   "cell_type": "code",
   "execution_count": 13,
   "id": "b553b1e1",
   "metadata": {},
   "outputs": [
    {
     "data": {
      "text/html": [
       "<div>\n",
       "<style scoped>\n",
       "    .dataframe tbody tr th:only-of-type {\n",
       "        vertical-align: middle;\n",
       "    }\n",
       "\n",
       "    .dataframe tbody tr th {\n",
       "        vertical-align: top;\n",
       "    }\n",
       "\n",
       "    .dataframe thead th {\n",
       "        text-align: right;\n",
       "    }\n",
       "</style>\n",
       "<table border=\"1\" class=\"dataframe\">\n",
       "  <thead>\n",
       "    <tr style=\"text-align: right;\">\n",
       "      <th></th>\n",
       "      <th>Date</th>\n",
       "      <th>per_capita_GDP</th>\n",
       "    </tr>\n",
       "  </thead>\n",
       "  <tbody>\n",
       "    <tr>\n",
       "      <th>90</th>\n",
       "      <td>2022-07-01</td>\n",
       "      <td>77875</td>\n",
       "    </tr>\n",
       "    <tr>\n",
       "      <th>91</th>\n",
       "      <td>2022-10-01</td>\n",
       "      <td>79000</td>\n",
       "    </tr>\n",
       "    <tr>\n",
       "      <th>92</th>\n",
       "      <td>2023-01-01</td>\n",
       "      <td>80126</td>\n",
       "    </tr>\n",
       "    <tr>\n",
       "      <th>93</th>\n",
       "      <td>2023-04-01</td>\n",
       "      <td>80781</td>\n",
       "    </tr>\n",
       "    <tr>\n",
       "      <th>94</th>\n",
       "      <td>2023-07-01</td>\n",
       "      <td>82335</td>\n",
       "    </tr>\n",
       "  </tbody>\n",
       "</table>\n",
       "</div>"
      ],
      "text/plain": [
       "         Date  per_capita_GDP\n",
       "90 2022-07-01           77875\n",
       "91 2022-10-01           79000\n",
       "92 2023-01-01           80126\n",
       "93 2023-04-01           80781\n",
       "94 2023-07-01           82335"
      ]
     },
     "execution_count": 13,
     "metadata": {},
     "output_type": "execute_result"
    }
   ],
   "source": [
    "# Per Capita GDP Data \n",
    "pcgdp = pd.read_excel(r'F:\\JUPTER NOTEBOOK\\RAVI SHANKAR PROJECTS\\US HOME PRICES\\PER CAPITA GDP.xls', \\\n",
    "                      names = ['Date', 'per_capita_GDP'])\n",
    "pcgdp.tail()"
   ]
  },
  {
   "cell_type": "code",
   "execution_count": 14,
   "id": "739eb0e5",
   "metadata": {},
   "outputs": [
    {
     "data": {
      "text/plain": [
       "(95, 2)"
      ]
     },
     "execution_count": 14,
     "metadata": {},
     "output_type": "execute_result"
    }
   ],
   "source": [
    "# Checking Per Capita GDP data shape\n",
    "pcgdp.shape"
   ]
  },
  {
   "cell_type": "code",
   "execution_count": 15,
   "id": "471f4009",
   "metadata": {},
   "outputs": [
    {
     "data": {
      "text/html": [
       "<div>\n",
       "<style scoped>\n",
       "    .dataframe tbody tr th:only-of-type {\n",
       "        vertical-align: middle;\n",
       "    }\n",
       "\n",
       "    .dataframe tbody tr th {\n",
       "        vertical-align: top;\n",
       "    }\n",
       "\n",
       "    .dataframe thead th {\n",
       "        text-align: right;\n",
       "    }\n",
       "</style>\n",
       "<table border=\"1\" class=\"dataframe\">\n",
       "  <thead>\n",
       "    <tr style=\"text-align: right;\">\n",
       "      <th></th>\n",
       "      <th>Date</th>\n",
       "      <th>Interest</th>\n",
       "    </tr>\n",
       "  </thead>\n",
       "  <tbody>\n",
       "    <tr>\n",
       "      <th>0</th>\n",
       "      <td>2000-01-01</td>\n",
       "      <td>5.95</td>\n",
       "    </tr>\n",
       "    <tr>\n",
       "      <th>1</th>\n",
       "      <td>2000-02-01</td>\n",
       "      <td>6.01</td>\n",
       "    </tr>\n",
       "    <tr>\n",
       "      <th>2</th>\n",
       "      <td>2000-03-01</td>\n",
       "      <td>6.14</td>\n",
       "    </tr>\n",
       "    <tr>\n",
       "      <th>3</th>\n",
       "      <td>2000-04-01</td>\n",
       "      <td>6.28</td>\n",
       "    </tr>\n",
       "    <tr>\n",
       "      <th>4</th>\n",
       "      <td>2000-05-01</td>\n",
       "      <td>6.71</td>\n",
       "    </tr>\n",
       "  </tbody>\n",
       "</table>\n",
       "</div>"
      ],
      "text/plain": [
       "        Date  Interest\n",
       "0 2000-01-01      5.95\n",
       "1 2000-02-01      6.01\n",
       "2 2000-03-01      6.14\n",
       "3 2000-04-01      6.28\n",
       "4 2000-05-01      6.71"
      ]
     },
     "execution_count": 15,
     "metadata": {},
     "output_type": "execute_result"
    }
   ],
   "source": [
    "# Interest Rate Data    \n",
    "interest = pd.read_excel(r'F:\\JUPTER NOTEBOOK\\RAVI SHANKAR PROJECTS\\US HOME PRICES\\INTEREST.xls', \\\n",
    "                      names = ['Date', 'Interest'])\n",
    "interest.head()"
   ]
  },
  {
   "cell_type": "code",
   "execution_count": 16,
   "id": "d0ef201c",
   "metadata": {},
   "outputs": [
    {
     "data": {
      "text/plain": [
       "(284, 2)"
      ]
     },
     "execution_count": 16,
     "metadata": {},
     "output_type": "execute_result"
    }
   ],
   "source": [
    "# Checking Per Interest rate data shape\n",
    "interest.shape"
   ]
  },
  {
   "cell_type": "code",
   "execution_count": 17,
   "id": "28f71fc1",
   "metadata": {},
   "outputs": [
    {
     "data": {
      "text/html": [
       "<div>\n",
       "<style scoped>\n",
       "    .dataframe tbody tr th:only-of-type {\n",
       "        vertical-align: middle;\n",
       "    }\n",
       "\n",
       "    .dataframe tbody tr th {\n",
       "        vertical-align: top;\n",
       "    }\n",
       "\n",
       "    .dataframe thead th {\n",
       "        text-align: right;\n",
       "    }\n",
       "</style>\n",
       "<table border=\"1\" class=\"dataframe\">\n",
       "  <thead>\n",
       "    <tr style=\"text-align: right;\">\n",
       "      <th></th>\n",
       "      <th>Date</th>\n",
       "      <th>CPI</th>\n",
       "    </tr>\n",
       "  </thead>\n",
       "  <tbody>\n",
       "    <tr>\n",
       "      <th>0</th>\n",
       "      <td>2000-01-01</td>\n",
       "      <td>169.3</td>\n",
       "    </tr>\n",
       "    <tr>\n",
       "      <th>1</th>\n",
       "      <td>2000-02-01</td>\n",
       "      <td>170.0</td>\n",
       "    </tr>\n",
       "    <tr>\n",
       "      <th>2</th>\n",
       "      <td>2000-03-01</td>\n",
       "      <td>171.0</td>\n",
       "    </tr>\n",
       "    <tr>\n",
       "      <th>3</th>\n",
       "      <td>2000-04-01</td>\n",
       "      <td>170.9</td>\n",
       "    </tr>\n",
       "    <tr>\n",
       "      <th>4</th>\n",
       "      <td>2000-05-01</td>\n",
       "      <td>171.2</td>\n",
       "    </tr>\n",
       "  </tbody>\n",
       "</table>\n",
       "</div>"
      ],
      "text/plain": [
       "        Date    CPI\n",
       "0 2000-01-01  169.3\n",
       "1 2000-02-01  170.0\n",
       "2 2000-03-01  171.0\n",
       "3 2000-04-01  170.9\n",
       "4 2000-05-01  171.2"
      ]
     },
     "execution_count": 17,
     "metadata": {},
     "output_type": "execute_result"
    }
   ],
   "source": [
    "# Consumer Price Index\n",
    "\n",
    "cpi = pd.read_excel(r'F:\\JUPTER NOTEBOOK\\RAVI SHANKAR PROJECTS\\US HOME PRICES\\CONSUMER PRICE INDEX.xls', \\\n",
    "                      names = ['Date', 'CPI'])\n",
    "cpi.head()"
   ]
  },
  {
   "cell_type": "code",
   "execution_count": 18,
   "id": "fc9ae08c",
   "metadata": {},
   "outputs": [
    {
     "data": {
      "text/plain": [
       "(284, 2)"
      ]
     },
     "execution_count": 18,
     "metadata": {},
     "output_type": "execute_result"
    }
   ],
   "source": [
    "# Checking CPI data shape\n",
    "interest.shape"
   ]
  },
  {
   "cell_type": "code",
   "execution_count": 19,
   "id": "38e881d9",
   "metadata": {},
   "outputs": [
    {
     "data": {
      "text/html": [
       "<div>\n",
       "<style scoped>\n",
       "    .dataframe tbody tr th:only-of-type {\n",
       "        vertical-align: middle;\n",
       "    }\n",
       "\n",
       "    .dataframe tbody tr th {\n",
       "        vertical-align: top;\n",
       "    }\n",
       "\n",
       "    .dataframe thead th {\n",
       "        text-align: right;\n",
       "    }\n",
       "</style>\n",
       "<table border=\"1\" class=\"dataframe\">\n",
       "  <thead>\n",
       "    <tr style=\"text-align: right;\">\n",
       "      <th></th>\n",
       "      <th>Date</th>\n",
       "      <th>Houses</th>\n",
       "    </tr>\n",
       "  </thead>\n",
       "  <tbody>\n",
       "    <tr>\n",
       "      <th>281</th>\n",
       "      <td>2023-06-01</td>\n",
       "      <td>303.841</td>\n",
       "    </tr>\n",
       "    <tr>\n",
       "      <th>282</th>\n",
       "      <td>2023-07-01</td>\n",
       "      <td>304.348</td>\n",
       "    </tr>\n",
       "    <tr>\n",
       "      <th>283</th>\n",
       "      <td>2023-08-01</td>\n",
       "      <td>306.269</td>\n",
       "    </tr>\n",
       "    <tr>\n",
       "      <th>284</th>\n",
       "      <td>2023-09-01</td>\n",
       "      <td>307.481</td>\n",
       "    </tr>\n",
       "    <tr>\n",
       "      <th>285</th>\n",
       "      <td>2023-10-01</td>\n",
       "      <td>307.619</td>\n",
       "    </tr>\n",
       "  </tbody>\n",
       "</table>\n",
       "</div>"
      ],
      "text/plain": [
       "          Date   Houses\n",
       "281 2023-06-01  303.841\n",
       "282 2023-07-01  304.348\n",
       "283 2023-08-01  306.269\n",
       "284 2023-09-01  307.481\n",
       "285 2023-10-01  307.619"
      ]
     },
     "execution_count": 19,
     "metadata": {},
     "output_type": "execute_result"
    }
   ],
   "source": [
    "# new house supply\n",
    "houses = pd.read_excel(r'F:\\JUPTER NOTEBOOK\\RAVI SHANKAR PROJECTS\\US HOME PRICES\\CONSUMER PRICE INDEX.xls', \\\n",
    "                      names = ['Date', 'Houses'])\n",
    "houses.tail()"
   ]
  },
  {
   "cell_type": "code",
   "execution_count": 20,
   "id": "76f42ad0",
   "metadata": {},
   "outputs": [
    {
     "data": {
      "text/plain": [
       "(286, 2)"
      ]
     },
     "execution_count": 20,
     "metadata": {},
     "output_type": "execute_result"
    }
   ],
   "source": [
    "houses.shape"
   ]
  },
  {
   "cell_type": "code",
   "execution_count": 21,
   "id": "abfe97f9",
   "metadata": {
    "scrolled": true
   },
   "outputs": [
    {
     "data": {
      "text/html": [
       "<div>\n",
       "<style scoped>\n",
       "    .dataframe tbody tr th:only-of-type {\n",
       "        vertical-align: middle;\n",
       "    }\n",
       "\n",
       "    .dataframe tbody tr th {\n",
       "        vertical-align: top;\n",
       "    }\n",
       "\n",
       "    .dataframe thead th {\n",
       "        text-align: right;\n",
       "    }\n",
       "</style>\n",
       "<table border=\"1\" class=\"dataframe\">\n",
       "  <thead>\n",
       "    <tr style=\"text-align: right;\">\n",
       "      <th></th>\n",
       "      <th>Date</th>\n",
       "      <th>Old_pop</th>\n",
       "    </tr>\n",
       "  </thead>\n",
       "  <tbody>\n",
       "    <tr>\n",
       "      <th>0</th>\n",
       "      <td>2000-01-01</td>\n",
       "      <td>12.317630</td>\n",
       "    </tr>\n",
       "    <tr>\n",
       "      <th>1</th>\n",
       "      <td>2001-01-01</td>\n",
       "      <td>12.296945</td>\n",
       "    </tr>\n",
       "    <tr>\n",
       "      <th>2</th>\n",
       "      <td>2002-01-01</td>\n",
       "      <td>12.287458</td>\n",
       "    </tr>\n",
       "    <tr>\n",
       "      <th>3</th>\n",
       "      <td>2003-01-01</td>\n",
       "      <td>12.277934</td>\n",
       "    </tr>\n",
       "    <tr>\n",
       "      <th>4</th>\n",
       "      <td>2004-01-01</td>\n",
       "      <td>12.304719</td>\n",
       "    </tr>\n",
       "  </tbody>\n",
       "</table>\n",
       "</div>"
      ],
      "text/plain": [
       "        Date    Old_pop\n",
       "0 2000-01-01  12.317630\n",
       "1 2001-01-01  12.296945\n",
       "2 2002-01-01  12.287458\n",
       "3 2003-01-01  12.277934\n",
       "4 2004-01-01  12.304719"
      ]
     },
     "execution_count": 21,
     "metadata": {},
     "output_type": "execute_result"
    }
   ],
   "source": [
    "# Population above 65\n",
    "\n",
    "oldpop =  pd.read_excel(r'F:\\JUPTER NOTEBOOK\\RAVI SHANKAR PROJECTS\\US HOME PRICES\\AGE 65 AND ABOVE.xls', \\\n",
    "                      names = ['Date', 'Old_pop'])\n",
    "oldpop.head()"
   ]
  },
  {
   "cell_type": "code",
   "execution_count": 22,
   "id": "e25e0e89",
   "metadata": {},
   "outputs": [
    {
     "data": {
      "text/plain": [
       "(23, 2)"
      ]
     },
     "execution_count": 22,
     "metadata": {},
     "output_type": "execute_result"
    }
   ],
   "source": [
    "# Checking Population of age 65 and above data shape\n",
    "oldpop.shape"
   ]
  },
  {
   "cell_type": "code",
   "execution_count": 23,
   "id": "c47533ae",
   "metadata": {},
   "outputs": [
    {
     "data": {
      "text/html": [
       "<div>\n",
       "<style scoped>\n",
       "    .dataframe tbody tr th:only-of-type {\n",
       "        vertical-align: middle;\n",
       "    }\n",
       "\n",
       "    .dataframe tbody tr th {\n",
       "        vertical-align: top;\n",
       "    }\n",
       "\n",
       "    .dataframe thead th {\n",
       "        text-align: right;\n",
       "    }\n",
       "</style>\n",
       "<table border=\"1\" class=\"dataframe\">\n",
       "  <thead>\n",
       "    <tr style=\"text-align: right;\">\n",
       "      <th></th>\n",
       "      <th>Date</th>\n",
       "      <th>Urban_pop</th>\n",
       "    </tr>\n",
       "  </thead>\n",
       "  <tbody>\n",
       "    <tr>\n",
       "      <th>0</th>\n",
       "      <td>2000-01-01</td>\n",
       "      <td>12.317630</td>\n",
       "    </tr>\n",
       "    <tr>\n",
       "      <th>1</th>\n",
       "      <td>2001-01-01</td>\n",
       "      <td>12.296945</td>\n",
       "    </tr>\n",
       "    <tr>\n",
       "      <th>2</th>\n",
       "      <td>2002-01-01</td>\n",
       "      <td>12.287458</td>\n",
       "    </tr>\n",
       "    <tr>\n",
       "      <th>3</th>\n",
       "      <td>2003-01-01</td>\n",
       "      <td>12.277934</td>\n",
       "    </tr>\n",
       "    <tr>\n",
       "      <th>4</th>\n",
       "      <td>2004-01-01</td>\n",
       "      <td>12.304719</td>\n",
       "    </tr>\n",
       "  </tbody>\n",
       "</table>\n",
       "</div>"
      ],
      "text/plain": [
       "        Date  Urban_pop\n",
       "0 2000-01-01  12.317630\n",
       "1 2001-01-01  12.296945\n",
       "2 2002-01-01  12.287458\n",
       "3 2003-01-01  12.277934\n",
       "4 2004-01-01  12.304719"
      ]
     },
     "execution_count": 23,
     "metadata": {},
     "output_type": "execute_result"
    }
   ],
   "source": [
    "# Urban Population Percent\n",
    "\n",
    "urbanpop =  pd.read_excel(r'F:\\JUPTER NOTEBOOK\\RAVI SHANKAR PROJECTS\\US HOME PRICES\\AGE 65 AND ABOVE.xls', \\\n",
    "                      names = ['Date', 'Urban_pop'])\n",
    "urbanpop.head()"
   ]
  },
  {
   "cell_type": "code",
   "execution_count": 24,
   "id": "a6dfc196",
   "metadata": {},
   "outputs": [
    {
     "data": {
      "text/plain": [
       "(23, 2)"
      ]
     },
     "execution_count": 24,
     "metadata": {},
     "output_type": "execute_result"
    }
   ],
   "source": [
    "# Checking Population prcentage of urban data shape\n",
    "urbanpop.shape"
   ]
  },
  {
   "cell_type": "code",
   "execution_count": 25,
   "id": "01c757b4",
   "metadata": {},
   "outputs": [
    {
     "data": {
      "text/html": [
       "<div>\n",
       "<style scoped>\n",
       "    .dataframe tbody tr th:only-of-type {\n",
       "        vertical-align: middle;\n",
       "    }\n",
       "\n",
       "    .dataframe tbody tr th {\n",
       "        vertical-align: top;\n",
       "    }\n",
       "\n",
       "    .dataframe thead th {\n",
       "        text-align: right;\n",
       "    }\n",
       "</style>\n",
       "<table border=\"1\" class=\"dataframe\">\n",
       "  <thead>\n",
       "    <tr style=\"text-align: right;\">\n",
       "      <th></th>\n",
       "      <th>Date</th>\n",
       "      <th>Subsidy</th>\n",
       "    </tr>\n",
       "  </thead>\n",
       "  <tbody>\n",
       "    <tr>\n",
       "      <th>0</th>\n",
       "      <td>2000-01-01</td>\n",
       "      <td>19.690</td>\n",
       "    </tr>\n",
       "    <tr>\n",
       "      <th>1</th>\n",
       "      <td>2001-01-01</td>\n",
       "      <td>20.573</td>\n",
       "    </tr>\n",
       "    <tr>\n",
       "      <th>2</th>\n",
       "      <td>2002-01-01</td>\n",
       "      <td>24.183</td>\n",
       "    </tr>\n",
       "    <tr>\n",
       "      <th>3</th>\n",
       "      <td>2003-01-01</td>\n",
       "      <td>25.930</td>\n",
       "    </tr>\n",
       "    <tr>\n",
       "      <th>4</th>\n",
       "      <td>2004-01-01</td>\n",
       "      <td>27.201</td>\n",
       "    </tr>\n",
       "  </tbody>\n",
       "</table>\n",
       "</div>"
      ],
      "text/plain": [
       "        Date  Subsidy\n",
       "0 2000-01-01   19.690\n",
       "1 2001-01-01   20.573\n",
       "2 2002-01-01   24.183\n",
       "3 2003-01-01   25.930\n",
       "4 2004-01-01   27.201"
      ]
     },
     "execution_count": 25,
     "metadata": {},
     "output_type": "execute_result"
    }
   ],
   "source": [
    "# Housing Subsidies (in billion dollars)\n",
    "\n",
    "subsidy =  pd.read_excel(r'F:\\JUPTER NOTEBOOK\\RAVI SHANKAR PROJECTS\\US HOME PRICES\\GOVERNMENT SUBSIDIES.xls', \\\n",
    "                      names = ['Date', 'Subsidy'])\n",
    "subsidy.head()"
   ]
  },
  {
   "cell_type": "code",
   "execution_count": 26,
   "id": "7c58abe2",
   "metadata": {},
   "outputs": [
    {
     "data": {
      "text/plain": [
       "(23, 2)"
      ]
     },
     "execution_count": 26,
     "metadata": {},
     "output_type": "execute_result"
    }
   ],
   "source": [
    "subsidy.shape"
   ]
  },
  {
   "cell_type": "code",
   "execution_count": 27,
   "id": "296fa2b4",
   "metadata": {},
   "outputs": [
    {
     "data": {
      "text/html": [
       "<div>\n",
       "<style scoped>\n",
       "    .dataframe tbody tr th:only-of-type {\n",
       "        vertical-align: middle;\n",
       "    }\n",
       "\n",
       "    .dataframe tbody tr th {\n",
       "        vertical-align: top;\n",
       "    }\n",
       "\n",
       "    .dataframe thead th {\n",
       "        text-align: right;\n",
       "    }\n",
       "</style>\n",
       "<table border=\"1\" class=\"dataframe\">\n",
       "  <thead>\n",
       "    <tr style=\"text-align: right;\">\n",
       "      <th></th>\n",
       "      <th>Date</th>\n",
       "      <th>working_pop</th>\n",
       "    </tr>\n",
       "  </thead>\n",
       "  <tbody>\n",
       "    <tr>\n",
       "      <th>0</th>\n",
       "      <td>2000-01-01</td>\n",
       "      <td>1.782921e+08</td>\n",
       "    </tr>\n",
       "    <tr>\n",
       "      <th>1</th>\n",
       "      <td>2000-02-01</td>\n",
       "      <td>1.783433e+08</td>\n",
       "    </tr>\n",
       "    <tr>\n",
       "      <th>2</th>\n",
       "      <td>2000-03-01</td>\n",
       "      <td>1.784055e+08</td>\n",
       "    </tr>\n",
       "    <tr>\n",
       "      <th>3</th>\n",
       "      <td>2000-04-01</td>\n",
       "      <td>1.785807e+08</td>\n",
       "    </tr>\n",
       "    <tr>\n",
       "      <th>4</th>\n",
       "      <td>2000-05-01</td>\n",
       "      <td>1.787272e+08</td>\n",
       "    </tr>\n",
       "  </tbody>\n",
       "</table>\n",
       "</div>"
      ],
      "text/plain": [
       "        Date   working_pop\n",
       "0 2000-01-01  1.782921e+08\n",
       "1 2000-02-01  1.783433e+08\n",
       "2 2000-03-01  1.784055e+08\n",
       "3 2000-04-01  1.785807e+08\n",
       "4 2000-05-01  1.787272e+08"
      ]
     },
     "execution_count": 27,
     "metadata": {},
     "output_type": "execute_result"
    }
   ],
   "source": [
    "# Working Population (In persons)\n",
    "\n",
    "working = pd.read_excel(r'F:\\JUPTER NOTEBOOK\\RAVI SHANKAR PROJECTS\\US HOME PRICES\\WORKING POP.xls', \\\n",
    "                      names = ['Date', 'working_pop'])\n",
    "\n",
    "working.head()"
   ]
  },
  {
   "cell_type": "code",
   "execution_count": 28,
   "id": "47b47d7a",
   "metadata": {},
   "outputs": [],
   "source": [
    "working['working_pop'] = working['working_pop'].apply(lambda x: '{:.1f}'.format(x))"
   ]
  },
  {
   "cell_type": "code",
   "execution_count": 29,
   "id": "ca1f3e4a",
   "metadata": {},
   "outputs": [
    {
     "data": {
      "text/html": [
       "<div>\n",
       "<style scoped>\n",
       "    .dataframe tbody tr th:only-of-type {\n",
       "        vertical-align: middle;\n",
       "    }\n",
       "\n",
       "    .dataframe tbody tr th {\n",
       "        vertical-align: top;\n",
       "    }\n",
       "\n",
       "    .dataframe thead th {\n",
       "        text-align: right;\n",
       "    }\n",
       "</style>\n",
       "<table border=\"1\" class=\"dataframe\">\n",
       "  <thead>\n",
       "    <tr style=\"text-align: right;\">\n",
       "      <th></th>\n",
       "      <th>Date</th>\n",
       "      <th>working_pop</th>\n",
       "    </tr>\n",
       "  </thead>\n",
       "  <tbody>\n",
       "    <tr>\n",
       "      <th>0</th>\n",
       "      <td>2000-01-01</td>\n",
       "      <td>178292111.5</td>\n",
       "    </tr>\n",
       "    <tr>\n",
       "      <th>1</th>\n",
       "      <td>2000-02-01</td>\n",
       "      <td>178343252.4</td>\n",
       "    </tr>\n",
       "    <tr>\n",
       "      <th>2</th>\n",
       "      <td>2000-03-01</td>\n",
       "      <td>178405530.6</td>\n",
       "    </tr>\n",
       "    <tr>\n",
       "      <th>3</th>\n",
       "      <td>2000-04-01</td>\n",
       "      <td>178580673.3</td>\n",
       "    </tr>\n",
       "    <tr>\n",
       "      <th>4</th>\n",
       "      <td>2000-05-01</td>\n",
       "      <td>178727196.9</td>\n",
       "    </tr>\n",
       "  </tbody>\n",
       "</table>\n",
       "</div>"
      ],
      "text/plain": [
       "        Date  working_pop\n",
       "0 2000-01-01  178292111.5\n",
       "1 2000-02-01  178343252.4\n",
       "2 2000-03-01  178405530.6\n",
       "3 2000-04-01  178580673.3\n",
       "4 2000-05-01  178727196.9"
      ]
     },
     "execution_count": 29,
     "metadata": {},
     "output_type": "execute_result"
    }
   ],
   "source": [
    "working.head()"
   ]
  },
  {
   "cell_type": "code",
   "execution_count": 30,
   "id": "cba7e22c",
   "metadata": {},
   "outputs": [
    {
     "data": {
      "text/plain": [
       "(286, 2)"
      ]
     },
     "execution_count": 30,
     "metadata": {},
     "output_type": "execute_result"
    }
   ],
   "source": [
    "# Checking working population data shape\n",
    "working.shape"
   ]
  },
  {
   "cell_type": "code",
   "execution_count": 31,
   "id": "fad80390",
   "metadata": {},
   "outputs": [
    {
     "data": {
      "text/html": [
       "<div>\n",
       "<style scoped>\n",
       "    .dataframe tbody tr th:only-of-type {\n",
       "        vertical-align: middle;\n",
       "    }\n",
       "\n",
       "    .dataframe tbody tr th {\n",
       "        vertical-align: top;\n",
       "    }\n",
       "\n",
       "    .dataframe thead th {\n",
       "        text-align: right;\n",
       "    }\n",
       "</style>\n",
       "<table border=\"1\" class=\"dataframe\">\n",
       "  <thead>\n",
       "    <tr style=\"text-align: right;\">\n",
       "      <th></th>\n",
       "      <th>Date</th>\n",
       "      <th>Income</th>\n",
       "    </tr>\n",
       "  </thead>\n",
       "  <tbody>\n",
       "    <tr>\n",
       "      <th>0</th>\n",
       "      <td>2000-01-01</td>\n",
       "      <td>67470</td>\n",
       "    </tr>\n",
       "    <tr>\n",
       "      <th>1</th>\n",
       "      <td>2001-01-01</td>\n",
       "      <td>66360</td>\n",
       "    </tr>\n",
       "    <tr>\n",
       "      <th>2</th>\n",
       "      <td>2002-01-01</td>\n",
       "      <td>65820</td>\n",
       "    </tr>\n",
       "    <tr>\n",
       "      <th>3</th>\n",
       "      <td>2003-01-01</td>\n",
       "      <td>65860</td>\n",
       "    </tr>\n",
       "    <tr>\n",
       "      <th>4</th>\n",
       "      <td>2004-01-01</td>\n",
       "      <td>65760</td>\n",
       "    </tr>\n",
       "  </tbody>\n",
       "</table>\n",
       "</div>"
      ],
      "text/plain": [
       "        Date  Income\n",
       "0 2000-01-01   67470\n",
       "1 2001-01-01   66360\n",
       "2 2002-01-01   65820\n",
       "3 2003-01-01   65860\n",
       "4 2004-01-01   65760"
      ]
     },
     "execution_count": 31,
     "metadata": {},
     "output_type": "execute_result"
    }
   ],
   "source": [
    "# Median Household Income\n",
    "\n",
    "income = pd.read_excel(r'F:\\JUPTER NOTEBOOK\\RAVI SHANKAR PROJECTS\\US HOME PRICES\\INCOME.xls', \\\n",
    "                      names = ['Date', 'Income'])\n",
    "\n",
    "income.head()"
   ]
  },
  {
   "cell_type": "code",
   "execution_count": 32,
   "id": "efaf6c5e",
   "metadata": {},
   "outputs": [
    {
     "data": {
      "text/plain": [
       "(23, 2)"
      ]
     },
     "execution_count": 32,
     "metadata": {},
     "output_type": "execute_result"
    }
   ],
   "source": [
    "income.shape"
   ]
  },
  {
   "cell_type": "code",
   "execution_count": 33,
   "id": "b7c8ce02",
   "metadata": {},
   "outputs": [
    {
     "data": {
      "text/html": [
       "<div>\n",
       "<style scoped>\n",
       "    .dataframe tbody tr th:only-of-type {\n",
       "        vertical-align: middle;\n",
       "    }\n",
       "\n",
       "    .dataframe tbody tr th {\n",
       "        vertical-align: top;\n",
       "    }\n",
       "\n",
       "    .dataframe thead th {\n",
       "        text-align: right;\n",
       "    }\n",
       "</style>\n",
       "<table border=\"1\" class=\"dataframe\">\n",
       "  <thead>\n",
       "    <tr style=\"text-align: right;\">\n",
       "      <th></th>\n",
       "      <th>Date</th>\n",
       "      <th>Num_household</th>\n",
       "    </tr>\n",
       "  </thead>\n",
       "  <tbody>\n",
       "    <tr>\n",
       "      <th>0</th>\n",
       "      <td>2000-01-01</td>\n",
       "      <td>104705</td>\n",
       "    </tr>\n",
       "    <tr>\n",
       "      <th>1</th>\n",
       "      <td>2001-01-01</td>\n",
       "      <td>108209</td>\n",
       "    </tr>\n",
       "    <tr>\n",
       "      <th>2</th>\n",
       "      <td>2002-01-01</td>\n",
       "      <td>109297</td>\n",
       "    </tr>\n",
       "    <tr>\n",
       "      <th>3</th>\n",
       "      <td>2003-01-01</td>\n",
       "      <td>111278</td>\n",
       "    </tr>\n",
       "    <tr>\n",
       "      <th>4</th>\n",
       "      <td>2004-01-01</td>\n",
       "      <td>112000</td>\n",
       "    </tr>\n",
       "  </tbody>\n",
       "</table>\n",
       "</div>"
      ],
      "text/plain": [
       "        Date  Num_household\n",
       "0 2000-01-01         104705\n",
       "1 2001-01-01         108209\n",
       "2 2002-01-01         109297\n",
       "3 2003-01-01         111278\n",
       "4 2004-01-01         112000"
      ]
     },
     "execution_count": 33,
     "metadata": {},
     "output_type": "execute_result"
    }
   ],
   "source": [
    "# Number of Household (In thousands)\n",
    "household = pd.read_excel(r'F:\\JUPTER NOTEBOOK\\RAVI SHANKAR PROJECTS\\US HOME PRICES\\TOTAL HOUSEHOLDS.xls', \\\n",
    "                      names = ['Date', 'Num_household'])\n",
    "household.head()"
   ]
  },
  {
   "cell_type": "code",
   "execution_count": 34,
   "id": "84e2981e",
   "metadata": {},
   "outputs": [
    {
     "data": {
      "text/plain": [
       "(24, 2)"
      ]
     },
     "execution_count": 34,
     "metadata": {},
     "output_type": "execute_result"
    }
   ],
   "source": [
    "household.shape"
   ]
  },
  {
   "cell_type": "code",
   "execution_count": 35,
   "id": "e7ffe11f",
   "metadata": {},
   "outputs": [
    {
     "data": {
      "text/html": [
       "<div>\n",
       "<style scoped>\n",
       "    .dataframe tbody tr th:only-of-type {\n",
       "        vertical-align: middle;\n",
       "    }\n",
       "\n",
       "    .dataframe tbody tr th {\n",
       "        vertical-align: top;\n",
       "    }\n",
       "\n",
       "    .dataframe thead th {\n",
       "        text-align: right;\n",
       "    }\n",
       "</style>\n",
       "<table border=\"1\" class=\"dataframe\">\n",
       "  <thead>\n",
       "    <tr style=\"text-align: right;\">\n",
       "      <th></th>\n",
       "      <th>Date</th>\n",
       "      <th>const_price_index</th>\n",
       "    </tr>\n",
       "  </thead>\n",
       "  <tbody>\n",
       "    <tr>\n",
       "      <th>0</th>\n",
       "      <td>2000-01-01</td>\n",
       "      <td>144.1</td>\n",
       "    </tr>\n",
       "    <tr>\n",
       "      <th>1</th>\n",
       "      <td>2000-02-01</td>\n",
       "      <td>144.7</td>\n",
       "    </tr>\n",
       "    <tr>\n",
       "      <th>2</th>\n",
       "      <td>2000-03-01</td>\n",
       "      <td>145.4</td>\n",
       "    </tr>\n",
       "    <tr>\n",
       "      <th>3</th>\n",
       "      <td>2000-04-01</td>\n",
       "      <td>145.6</td>\n",
       "    </tr>\n",
       "    <tr>\n",
       "      <th>4</th>\n",
       "      <td>2000-05-01</td>\n",
       "      <td>144.9</td>\n",
       "    </tr>\n",
       "  </tbody>\n",
       "</table>\n",
       "</div>"
      ],
      "text/plain": [
       "        Date  const_price_index\n",
       "0 2000-01-01              144.1\n",
       "1 2000-02-01              144.7\n",
       "2 2000-03-01              145.4\n",
       "3 2000-04-01              145.6\n",
       "4 2000-05-01              144.9"
      ]
     },
     "execution_count": 35,
     "metadata": {},
     "output_type": "execute_result"
    }
   ],
   "source": [
    "# Reading Construction Price Index\n",
    "\n",
    "construction_price = pd.read_excel(r'F:\\JUPTER NOTEBOOK\\RAVI SHANKAR PROJECTS\\US HOME PRICES\\CONSTRUCTION PRICE INDEX.xls', \\\n",
    "                      names = ['Date', 'const_price_index'])\n",
    "construction_price.head()"
   ]
  },
  {
   "cell_type": "code",
   "execution_count": 36,
   "id": "340a36be",
   "metadata": {},
   "outputs": [
    {
     "data": {
      "text/plain": [
       "(284, 2)"
      ]
     },
     "execution_count": 36,
     "metadata": {},
     "output_type": "execute_result"
    }
   ],
   "source": [
    "construction_price.shape"
   ]
  },
  {
   "cell_type": "code",
   "execution_count": 37,
   "id": "ef798de3",
   "metadata": {},
   "outputs": [
    {
     "data": {
      "text/html": [
       "<div>\n",
       "<style scoped>\n",
       "    .dataframe tbody tr th:only-of-type {\n",
       "        vertical-align: middle;\n",
       "    }\n",
       "\n",
       "    .dataframe tbody tr th {\n",
       "        vertical-align: top;\n",
       "    }\n",
       "\n",
       "    .dataframe thead th {\n",
       "        text-align: right;\n",
       "    }\n",
       "</style>\n",
       "<table border=\"1\" class=\"dataframe\">\n",
       "  <thead>\n",
       "    <tr style=\"text-align: right;\">\n",
       "      <th></th>\n",
       "      <th>Date</th>\n",
       "      <th>CSUSHPISA</th>\n",
       "      <th>Year</th>\n",
       "      <th>Month</th>\n",
       "      <th>unemp</th>\n",
       "      <th>Interest</th>\n",
       "      <th>CPI</th>\n",
       "      <th>const_price_index</th>\n",
       "      <th>working_pop</th>\n",
       "      <th>Houses</th>\n",
       "    </tr>\n",
       "  </thead>\n",
       "  <tbody>\n",
       "    <tr>\n",
       "      <th>0</th>\n",
       "      <td>2001-01-01</td>\n",
       "      <td>109.846</td>\n",
       "      <td>2001</td>\n",
       "      <td>1</td>\n",
       "      <td>4.2</td>\n",
       "      <td>5.62</td>\n",
       "      <td>175.6</td>\n",
       "      <td>142.0</td>\n",
       "      <td>180416623.5</td>\n",
       "      <td>175.6</td>\n",
       "    </tr>\n",
       "    <tr>\n",
       "      <th>1</th>\n",
       "      <td>2001-02-01</td>\n",
       "      <td>110.500</td>\n",
       "      <td>2001</td>\n",
       "      <td>2</td>\n",
       "      <td>4.2</td>\n",
       "      <td>5.26</td>\n",
       "      <td>176.0</td>\n",
       "      <td>142.4</td>\n",
       "      <td>180577730.8</td>\n",
       "      <td>176.0</td>\n",
       "    </tr>\n",
       "    <tr>\n",
       "      <th>2</th>\n",
       "      <td>2001-03-01</td>\n",
       "      <td>111.109</td>\n",
       "      <td>2001</td>\n",
       "      <td>3</td>\n",
       "      <td>4.3</td>\n",
       "      <td>4.89</td>\n",
       "      <td>176.1</td>\n",
       "      <td>142.4</td>\n",
       "      <td>180636104.8</td>\n",
       "      <td>176.1</td>\n",
       "    </tr>\n",
       "    <tr>\n",
       "      <th>3</th>\n",
       "      <td>2001-04-01</td>\n",
       "      <td>111.652</td>\n",
       "      <td>2001</td>\n",
       "      <td>4</td>\n",
       "      <td>4.4</td>\n",
       "      <td>4.53</td>\n",
       "      <td>176.4</td>\n",
       "      <td>142.5</td>\n",
       "      <td>180905518.2</td>\n",
       "      <td>176.4</td>\n",
       "    </tr>\n",
       "    <tr>\n",
       "      <th>4</th>\n",
       "      <td>2001-05-01</td>\n",
       "      <td>112.164</td>\n",
       "      <td>2001</td>\n",
       "      <td>5</td>\n",
       "      <td>4.3</td>\n",
       "      <td>4.02</td>\n",
       "      <td>177.3</td>\n",
       "      <td>144.2</td>\n",
       "      <td>181014608.3</td>\n",
       "      <td>177.3</td>\n",
       "    </tr>\n",
       "  </tbody>\n",
       "</table>\n",
       "</div>"
      ],
      "text/plain": [
       "        Date  CSUSHPISA  Year  Month  unemp  Interest    CPI  \\\n",
       "0 2001-01-01    109.846  2001      1    4.2      5.62  175.6   \n",
       "1 2001-02-01    110.500  2001      2    4.2      5.26  176.0   \n",
       "2 2001-03-01    111.109  2001      3    4.3      4.89  176.1   \n",
       "3 2001-04-01    111.652  2001      4    4.4      4.53  176.4   \n",
       "4 2001-05-01    112.164  2001      5    4.3      4.02  177.3   \n",
       "\n",
       "   const_price_index  working_pop  Houses  \n",
       "0              142.0  180416623.5   175.6  \n",
       "1              142.4  180577730.8   176.0  \n",
       "2              142.4  180636104.8   176.1  \n",
       "3              142.5  180905518.2   176.4  \n",
       "4              144.2  181014608.3   177.3  "
      ]
     },
     "execution_count": 37,
     "metadata": {},
     "output_type": "execute_result"
    }
   ],
   "source": [
    "# Merge case chiller, unemp, Interest, CPI, const_price_index, working_pop, new house supply on the basis of Date\n",
    "df = pd.merge(shiller, unemp, on = 'Date', how='left')\n",
    "df = pd.merge(df,interest,on = 'Date', how='left' )\n",
    "df = pd.merge(df,cpi, on = 'Date', how='left')\n",
    "df = pd.merge(df,construction_price, on= 'Date', how= 'left')\n",
    "df = pd.merge(df, working, on= 'Date', how= 'left')\n",
    "df = pd.merge(df, houses, on= 'Date', how= 'left')\n",
    "\n",
    "df.head()"
   ]
  },
  {
   "cell_type": "code",
   "execution_count": 38,
   "id": "c159e519",
   "metadata": {},
   "outputs": [
    {
     "data": {
      "text/plain": [
       "(272, 10)"
      ]
     },
     "execution_count": 38,
     "metadata": {},
     "output_type": "execute_result"
    }
   ],
   "source": [
    "df.shape"
   ]
  },
  {
   "cell_type": "code",
   "execution_count": 39,
   "id": "d9d19537",
   "metadata": {},
   "outputs": [
    {
     "data": {
      "text/html": [
       "<div>\n",
       "<style scoped>\n",
       "    .dataframe tbody tr th:only-of-type {\n",
       "        vertical-align: middle;\n",
       "    }\n",
       "\n",
       "    .dataframe tbody tr th {\n",
       "        vertical-align: top;\n",
       "    }\n",
       "\n",
       "    .dataframe thead th {\n",
       "        text-align: right;\n",
       "    }\n",
       "</style>\n",
       "<table border=\"1\" class=\"dataframe\">\n",
       "  <thead>\n",
       "    <tr style=\"text-align: right;\">\n",
       "      <th></th>\n",
       "      <th>Date</th>\n",
       "      <th>CSUSHPISA</th>\n",
       "      <th>Year</th>\n",
       "      <th>Month</th>\n",
       "      <th>unemp</th>\n",
       "      <th>Interest</th>\n",
       "      <th>CPI</th>\n",
       "      <th>const_price_index</th>\n",
       "      <th>working_pop</th>\n",
       "      <th>Houses</th>\n",
       "      <th>per_capita_GDP</th>\n",
       "    </tr>\n",
       "  </thead>\n",
       "  <tbody>\n",
       "    <tr>\n",
       "      <th>0</th>\n",
       "      <td>2001-01-01</td>\n",
       "      <td>109.846</td>\n",
       "      <td>2001</td>\n",
       "      <td>1</td>\n",
       "      <td>4.2</td>\n",
       "      <td>5.62</td>\n",
       "      <td>175.6</td>\n",
       "      <td>142.0</td>\n",
       "      <td>180416623.5</td>\n",
       "      <td>175.6</td>\n",
       "      <td>36845.0</td>\n",
       "    </tr>\n",
       "    <tr>\n",
       "      <th>1</th>\n",
       "      <td>2001-02-01</td>\n",
       "      <td>110.500</td>\n",
       "      <td>2001</td>\n",
       "      <td>2</td>\n",
       "      <td>4.2</td>\n",
       "      <td>5.26</td>\n",
       "      <td>176.0</td>\n",
       "      <td>142.4</td>\n",
       "      <td>180577730.8</td>\n",
       "      <td>176.0</td>\n",
       "      <td>NaN</td>\n",
       "    </tr>\n",
       "    <tr>\n",
       "      <th>2</th>\n",
       "      <td>2001-03-01</td>\n",
       "      <td>111.109</td>\n",
       "      <td>2001</td>\n",
       "      <td>3</td>\n",
       "      <td>4.3</td>\n",
       "      <td>4.89</td>\n",
       "      <td>176.1</td>\n",
       "      <td>142.4</td>\n",
       "      <td>180636104.8</td>\n",
       "      <td>176.1</td>\n",
       "      <td>NaN</td>\n",
       "    </tr>\n",
       "    <tr>\n",
       "      <th>3</th>\n",
       "      <td>2001-04-01</td>\n",
       "      <td>111.652</td>\n",
       "      <td>2001</td>\n",
       "      <td>4</td>\n",
       "      <td>4.4</td>\n",
       "      <td>4.53</td>\n",
       "      <td>176.4</td>\n",
       "      <td>142.5</td>\n",
       "      <td>180905518.2</td>\n",
       "      <td>176.4</td>\n",
       "      <td>37211.0</td>\n",
       "    </tr>\n",
       "    <tr>\n",
       "      <th>4</th>\n",
       "      <td>2001-05-01</td>\n",
       "      <td>112.164</td>\n",
       "      <td>2001</td>\n",
       "      <td>5</td>\n",
       "      <td>4.3</td>\n",
       "      <td>4.02</td>\n",
       "      <td>177.3</td>\n",
       "      <td>144.2</td>\n",
       "      <td>181014608.3</td>\n",
       "      <td>177.3</td>\n",
       "      <td>NaN</td>\n",
       "    </tr>\n",
       "  </tbody>\n",
       "</table>\n",
       "</div>"
      ],
      "text/plain": [
       "        Date  CSUSHPISA  Year  Month  unemp  Interest    CPI  \\\n",
       "0 2001-01-01    109.846  2001      1    4.2      5.62  175.6   \n",
       "1 2001-02-01    110.500  2001      2    4.2      5.26  176.0   \n",
       "2 2001-03-01    111.109  2001      3    4.3      4.89  176.1   \n",
       "3 2001-04-01    111.652  2001      4    4.4      4.53  176.4   \n",
       "4 2001-05-01    112.164  2001      5    4.3      4.02  177.3   \n",
       "\n",
       "   const_price_index  working_pop  Houses  per_capita_GDP  \n",
       "0              142.0  180416623.5   175.6         36845.0  \n",
       "1              142.4  180577730.8   176.0             NaN  \n",
       "2              142.4  180636104.8   176.1             NaN  \n",
       "3              142.5  180905518.2   176.4         37211.0  \n",
       "4              144.2  181014608.3   177.3             NaN  "
      ]
     },
     "execution_count": 39,
     "metadata": {},
     "output_type": "execute_result"
    }
   ],
   "source": [
    "df = pd.merge(df, pcgdp, on= 'Date', how= 'left')\n",
    "df.head()"
   ]
  },
  {
   "cell_type": "markdown",
   "id": "b95daa33",
   "metadata": {},
   "source": [
    "The \"Per_Capita_GDP\" column has missing values because the data was quarterly. The missing values in the other columns \n",
    "is due to unavailability of fresh data. We will first fill the missing values in the \"Per_Capita_GDP\" column using linear interpolation. "
   ]
  },
  {
   "cell_type": "code",
   "execution_count": 39,
   "id": "31f956b1",
   "metadata": {},
   "outputs": [],
   "source": [
    "df['per_capita_GDP'] = df['per_capita_GDP'].interpolate()"
   ]
  },
  {
   "cell_type": "code",
   "execution_count": 40,
   "id": "ebc4a49e",
   "metadata": {},
   "outputs": [
    {
     "data": {
      "text/html": [
       "<div>\n",
       "<style scoped>\n",
       "    .dataframe tbody tr th:only-of-type {\n",
       "        vertical-align: middle;\n",
       "    }\n",
       "\n",
       "    .dataframe tbody tr th {\n",
       "        vertical-align: top;\n",
       "    }\n",
       "\n",
       "    .dataframe thead th {\n",
       "        text-align: right;\n",
       "    }\n",
       "</style>\n",
       "<table border=\"1\" class=\"dataframe\">\n",
       "  <thead>\n",
       "    <tr style=\"text-align: right;\">\n",
       "      <th></th>\n",
       "      <th>Date</th>\n",
       "      <th>CSUSHPISA</th>\n",
       "      <th>Year</th>\n",
       "      <th>Month</th>\n",
       "      <th>unemp</th>\n",
       "      <th>Interest</th>\n",
       "      <th>CPI</th>\n",
       "      <th>const_price_index</th>\n",
       "      <th>working_pop</th>\n",
       "      <th>Houses</th>\n",
       "      <th>per_capita_GDP</th>\n",
       "    </tr>\n",
       "  </thead>\n",
       "  <tbody>\n",
       "    <tr>\n",
       "      <th>0</th>\n",
       "      <td>2001-01-01</td>\n",
       "      <td>109.846</td>\n",
       "      <td>2001</td>\n",
       "      <td>1</td>\n",
       "      <td>4.2</td>\n",
       "      <td>5.62</td>\n",
       "      <td>175.6</td>\n",
       "      <td>142.0</td>\n",
       "      <td>180416623.5</td>\n",
       "      <td>175.6</td>\n",
       "      <td>36845.000000</td>\n",
       "    </tr>\n",
       "    <tr>\n",
       "      <th>1</th>\n",
       "      <td>2001-02-01</td>\n",
       "      <td>110.500</td>\n",
       "      <td>2001</td>\n",
       "      <td>2</td>\n",
       "      <td>4.2</td>\n",
       "      <td>5.26</td>\n",
       "      <td>176.0</td>\n",
       "      <td>142.4</td>\n",
       "      <td>180577730.8</td>\n",
       "      <td>176.0</td>\n",
       "      <td>36967.000000</td>\n",
       "    </tr>\n",
       "    <tr>\n",
       "      <th>2</th>\n",
       "      <td>2001-03-01</td>\n",
       "      <td>111.109</td>\n",
       "      <td>2001</td>\n",
       "      <td>3</td>\n",
       "      <td>4.3</td>\n",
       "      <td>4.89</td>\n",
       "      <td>176.1</td>\n",
       "      <td>142.4</td>\n",
       "      <td>180636104.8</td>\n",
       "      <td>176.1</td>\n",
       "      <td>37089.000000</td>\n",
       "    </tr>\n",
       "    <tr>\n",
       "      <th>3</th>\n",
       "      <td>2001-04-01</td>\n",
       "      <td>111.652</td>\n",
       "      <td>2001</td>\n",
       "      <td>4</td>\n",
       "      <td>4.4</td>\n",
       "      <td>4.53</td>\n",
       "      <td>176.4</td>\n",
       "      <td>142.5</td>\n",
       "      <td>180905518.2</td>\n",
       "      <td>176.4</td>\n",
       "      <td>37211.000000</td>\n",
       "    </tr>\n",
       "    <tr>\n",
       "      <th>4</th>\n",
       "      <td>2001-05-01</td>\n",
       "      <td>112.164</td>\n",
       "      <td>2001</td>\n",
       "      <td>5</td>\n",
       "      <td>4.3</td>\n",
       "      <td>4.02</td>\n",
       "      <td>177.3</td>\n",
       "      <td>144.2</td>\n",
       "      <td>181014608.3</td>\n",
       "      <td>177.3</td>\n",
       "      <td>37177.333333</td>\n",
       "    </tr>\n",
       "  </tbody>\n",
       "</table>\n",
       "</div>"
      ],
      "text/plain": [
       "        Date  CSUSHPISA  Year  Month  unemp  Interest    CPI  \\\n",
       "0 2001-01-01    109.846  2001      1    4.2      5.62  175.6   \n",
       "1 2001-02-01    110.500  2001      2    4.2      5.26  176.0   \n",
       "2 2001-03-01    111.109  2001      3    4.3      4.89  176.1   \n",
       "3 2001-04-01    111.652  2001      4    4.4      4.53  176.4   \n",
       "4 2001-05-01    112.164  2001      5    4.3      4.02  177.3   \n",
       "\n",
       "   const_price_index  working_pop  Houses  per_capita_GDP  \n",
       "0              142.0  180416623.5   175.6    36845.000000  \n",
       "1              142.4  180577730.8   176.0    36967.000000  \n",
       "2              142.4  180636104.8   176.1    37089.000000  \n",
       "3              142.5  180905518.2   176.4    37211.000000  \n",
       "4              144.2  181014608.3   177.3    37177.333333  "
      ]
     },
     "execution_count": 40,
     "metadata": {},
     "output_type": "execute_result"
    }
   ],
   "source": [
    "df.head()"
   ]
  },
  {
   "cell_type": "code",
   "execution_count": 41,
   "id": "248a45ed",
   "metadata": {},
   "outputs": [],
   "source": [
    "# Merge Rest of the column with df database by creating a year column \n",
    "cols = [household, income, subsidy, urbanpop, oldpop]\n",
    "\n",
    "for df1 in cols:\n",
    "    df1['Year'] = df1['Date'].dt.year\n",
    "    df1.set_index(\"Date\", inplace = True)\n",
    "    df = pd.merge(df, df1, how ='left', on = 'Year')"
   ]
  },
  {
   "cell_type": "code",
   "execution_count": 42,
   "id": "c634a37d",
   "metadata": {},
   "outputs": [
    {
     "data": {
      "text/html": [
       "<div>\n",
       "<style scoped>\n",
       "    .dataframe tbody tr th:only-of-type {\n",
       "        vertical-align: middle;\n",
       "    }\n",
       "\n",
       "    .dataframe tbody tr th {\n",
       "        vertical-align: top;\n",
       "    }\n",
       "\n",
       "    .dataframe thead th {\n",
       "        text-align: right;\n",
       "    }\n",
       "</style>\n",
       "<table border=\"1\" class=\"dataframe\">\n",
       "  <thead>\n",
       "    <tr style=\"text-align: right;\">\n",
       "      <th></th>\n",
       "      <th>Date</th>\n",
       "      <th>CSUSHPISA</th>\n",
       "      <th>Year</th>\n",
       "      <th>Month</th>\n",
       "      <th>unemp</th>\n",
       "      <th>Interest</th>\n",
       "      <th>CPI</th>\n",
       "      <th>const_price_index</th>\n",
       "      <th>working_pop</th>\n",
       "      <th>Houses</th>\n",
       "      <th>per_capita_GDP</th>\n",
       "      <th>Num_household</th>\n",
       "      <th>Income</th>\n",
       "      <th>Subsidy</th>\n",
       "      <th>Urban_pop</th>\n",
       "      <th>Old_pop</th>\n",
       "    </tr>\n",
       "  </thead>\n",
       "  <tbody>\n",
       "    <tr>\n",
       "      <th>267</th>\n",
       "      <td>2023-04-01</td>\n",
       "      <td>300.198</td>\n",
       "      <td>2023</td>\n",
       "      <td>4</td>\n",
       "      <td>3.4</td>\n",
       "      <td>5.03</td>\n",
       "      <td>302.918</td>\n",
       "      <td>333.366</td>\n",
       "      <td>208392885.8</td>\n",
       "      <td>302.918</td>\n",
       "      <td>80781.0</td>\n",
       "      <td>131434</td>\n",
       "      <td>NaN</td>\n",
       "      <td>NaN</td>\n",
       "      <td>NaN</td>\n",
       "      <td>NaN</td>\n",
       "    </tr>\n",
       "    <tr>\n",
       "      <th>268</th>\n",
       "      <td>2023-05-01</td>\n",
       "      <td>302.620</td>\n",
       "      <td>2023</td>\n",
       "      <td>5</td>\n",
       "      <td>3.7</td>\n",
       "      <td>5.15</td>\n",
       "      <td>303.294</td>\n",
       "      <td>337.473</td>\n",
       "      <td>208612844.2</td>\n",
       "      <td>303.294</td>\n",
       "      <td>81299.0</td>\n",
       "      <td>131434</td>\n",
       "      <td>NaN</td>\n",
       "      <td>NaN</td>\n",
       "      <td>NaN</td>\n",
       "      <td>NaN</td>\n",
       "    </tr>\n",
       "    <tr>\n",
       "      <th>269</th>\n",
       "      <td>2023-06-01</td>\n",
       "      <td>304.651</td>\n",
       "      <td>2023</td>\n",
       "      <td>6</td>\n",
       "      <td>3.6</td>\n",
       "      <td>5.22</td>\n",
       "      <td>303.841</td>\n",
       "      <td>337.336</td>\n",
       "      <td>208706920.0</td>\n",
       "      <td>303.841</td>\n",
       "      <td>81817.0</td>\n",
       "      <td>131434</td>\n",
       "      <td>NaN</td>\n",
       "      <td>NaN</td>\n",
       "      <td>NaN</td>\n",
       "      <td>NaN</td>\n",
       "    </tr>\n",
       "    <tr>\n",
       "      <th>270</th>\n",
       "      <td>2023-07-01</td>\n",
       "      <td>306.634</td>\n",
       "      <td>2023</td>\n",
       "      <td>7</td>\n",
       "      <td>3.5</td>\n",
       "      <td>5.35</td>\n",
       "      <td>304.348</td>\n",
       "      <td>334.576</td>\n",
       "      <td>208779237.3</td>\n",
       "      <td>304.348</td>\n",
       "      <td>82335.0</td>\n",
       "      <td>131434</td>\n",
       "      <td>NaN</td>\n",
       "      <td>NaN</td>\n",
       "      <td>NaN</td>\n",
       "      <td>NaN</td>\n",
       "    </tr>\n",
       "    <tr>\n",
       "      <th>271</th>\n",
       "      <td>2023-08-01</td>\n",
       "      <td>309.404</td>\n",
       "      <td>2023</td>\n",
       "      <td>8</td>\n",
       "      <td>3.8</td>\n",
       "      <td>5.44</td>\n",
       "      <td>306.269</td>\n",
       "      <td>333.980</td>\n",
       "      <td>208906586.8</td>\n",
       "      <td>306.269</td>\n",
       "      <td>82335.0</td>\n",
       "      <td>131434</td>\n",
       "      <td>NaN</td>\n",
       "      <td>NaN</td>\n",
       "      <td>NaN</td>\n",
       "      <td>NaN</td>\n",
       "    </tr>\n",
       "  </tbody>\n",
       "</table>\n",
       "</div>"
      ],
      "text/plain": [
       "          Date  CSUSHPISA  Year  Month  unemp  Interest      CPI  \\\n",
       "267 2023-04-01    300.198  2023      4    3.4      5.03  302.918   \n",
       "268 2023-05-01    302.620  2023      5    3.7      5.15  303.294   \n",
       "269 2023-06-01    304.651  2023      6    3.6      5.22  303.841   \n",
       "270 2023-07-01    306.634  2023      7    3.5      5.35  304.348   \n",
       "271 2023-08-01    309.404  2023      8    3.8      5.44  306.269   \n",
       "\n",
       "     const_price_index  working_pop   Houses  per_capita_GDP  Num_household  \\\n",
       "267            333.366  208392885.8  302.918         80781.0         131434   \n",
       "268            337.473  208612844.2  303.294         81299.0         131434   \n",
       "269            337.336  208706920.0  303.841         81817.0         131434   \n",
       "270            334.576  208779237.3  304.348         82335.0         131434   \n",
       "271            333.980  208906586.8  306.269         82335.0         131434   \n",
       "\n",
       "     Income  Subsidy  Urban_pop  Old_pop  \n",
       "267     NaN      NaN        NaN      NaN  \n",
       "268     NaN      NaN        NaN      NaN  \n",
       "269     NaN      NaN        NaN      NaN  \n",
       "270     NaN      NaN        NaN      NaN  \n",
       "271     NaN      NaN        NaN      NaN  "
      ]
     },
     "execution_count": 42,
     "metadata": {},
     "output_type": "execute_result"
    }
   ],
   "source": [
    "df.tail()"
   ]
  },
  {
   "cell_type": "markdown",
   "id": "763101a6",
   "metadata": {},
   "source": [
    "We dont have records for the Subsidy, Income, Urban_pop, Old_pop for 2023 so therefore we delete those record containing Nan values"
   ]
  },
  {
   "cell_type": "code",
   "execution_count": 43,
   "id": "deceae61",
   "metadata": {},
   "outputs": [],
   "source": [
    "df.dropna(inplace=True)"
   ]
  },
  {
   "cell_type": "code",
   "execution_count": 44,
   "id": "93ddaed7",
   "metadata": {},
   "outputs": [
    {
     "data": {
      "text/html": [
       "<div>\n",
       "<style scoped>\n",
       "    .dataframe tbody tr th:only-of-type {\n",
       "        vertical-align: middle;\n",
       "    }\n",
       "\n",
       "    .dataframe tbody tr th {\n",
       "        vertical-align: top;\n",
       "    }\n",
       "\n",
       "    .dataframe thead th {\n",
       "        text-align: right;\n",
       "    }\n",
       "</style>\n",
       "<table border=\"1\" class=\"dataframe\">\n",
       "  <thead>\n",
       "    <tr style=\"text-align: right;\">\n",
       "      <th></th>\n",
       "      <th>Date</th>\n",
       "      <th>CSUSHPISA</th>\n",
       "      <th>Year</th>\n",
       "      <th>Month</th>\n",
       "      <th>unemp</th>\n",
       "      <th>Interest</th>\n",
       "      <th>CPI</th>\n",
       "      <th>const_price_index</th>\n",
       "      <th>working_pop</th>\n",
       "      <th>Houses</th>\n",
       "      <th>per_capita_GDP</th>\n",
       "      <th>Num_household</th>\n",
       "      <th>Income</th>\n",
       "      <th>Subsidy</th>\n",
       "      <th>Urban_pop</th>\n",
       "      <th>Old_pop</th>\n",
       "    </tr>\n",
       "  </thead>\n",
       "  <tbody>\n",
       "    <tr>\n",
       "      <th>0</th>\n",
       "      <td>2001-01-01</td>\n",
       "      <td>109.846</td>\n",
       "      <td>2001</td>\n",
       "      <td>1</td>\n",
       "      <td>4.2</td>\n",
       "      <td>5.62</td>\n",
       "      <td>175.600</td>\n",
       "      <td>142.000</td>\n",
       "      <td>180416623.5</td>\n",
       "      <td>175.600</td>\n",
       "      <td>36845.000000</td>\n",
       "      <td>108209</td>\n",
       "      <td>66360.0</td>\n",
       "      <td>20.573</td>\n",
       "      <td>12.296945</td>\n",
       "      <td>12.296945</td>\n",
       "    </tr>\n",
       "    <tr>\n",
       "      <th>1</th>\n",
       "      <td>2001-02-01</td>\n",
       "      <td>110.500</td>\n",
       "      <td>2001</td>\n",
       "      <td>2</td>\n",
       "      <td>4.2</td>\n",
       "      <td>5.26</td>\n",
       "      <td>176.000</td>\n",
       "      <td>142.400</td>\n",
       "      <td>180577730.8</td>\n",
       "      <td>176.000</td>\n",
       "      <td>36967.000000</td>\n",
       "      <td>108209</td>\n",
       "      <td>66360.0</td>\n",
       "      <td>20.573</td>\n",
       "      <td>12.296945</td>\n",
       "      <td>12.296945</td>\n",
       "    </tr>\n",
       "    <tr>\n",
       "      <th>2</th>\n",
       "      <td>2001-03-01</td>\n",
       "      <td>111.109</td>\n",
       "      <td>2001</td>\n",
       "      <td>3</td>\n",
       "      <td>4.3</td>\n",
       "      <td>4.89</td>\n",
       "      <td>176.100</td>\n",
       "      <td>142.400</td>\n",
       "      <td>180636104.8</td>\n",
       "      <td>176.100</td>\n",
       "      <td>37089.000000</td>\n",
       "      <td>108209</td>\n",
       "      <td>66360.0</td>\n",
       "      <td>20.573</td>\n",
       "      <td>12.296945</td>\n",
       "      <td>12.296945</td>\n",
       "    </tr>\n",
       "    <tr>\n",
       "      <th>3</th>\n",
       "      <td>2001-04-01</td>\n",
       "      <td>111.652</td>\n",
       "      <td>2001</td>\n",
       "      <td>4</td>\n",
       "      <td>4.4</td>\n",
       "      <td>4.53</td>\n",
       "      <td>176.400</td>\n",
       "      <td>142.500</td>\n",
       "      <td>180905518.2</td>\n",
       "      <td>176.400</td>\n",
       "      <td>37211.000000</td>\n",
       "      <td>108209</td>\n",
       "      <td>66360.0</td>\n",
       "      <td>20.573</td>\n",
       "      <td>12.296945</td>\n",
       "      <td>12.296945</td>\n",
       "    </tr>\n",
       "    <tr>\n",
       "      <th>4</th>\n",
       "      <td>2001-05-01</td>\n",
       "      <td>112.164</td>\n",
       "      <td>2001</td>\n",
       "      <td>5</td>\n",
       "      <td>4.3</td>\n",
       "      <td>4.02</td>\n",
       "      <td>177.300</td>\n",
       "      <td>144.200</td>\n",
       "      <td>181014608.3</td>\n",
       "      <td>177.300</td>\n",
       "      <td>37177.333333</td>\n",
       "      <td>108209</td>\n",
       "      <td>66360.0</td>\n",
       "      <td>20.573</td>\n",
       "      <td>12.296945</td>\n",
       "      <td>12.296945</td>\n",
       "    </tr>\n",
       "    <tr>\n",
       "      <th>...</th>\n",
       "      <td>...</td>\n",
       "      <td>...</td>\n",
       "      <td>...</td>\n",
       "      <td>...</td>\n",
       "      <td>...</td>\n",
       "      <td>...</td>\n",
       "      <td>...</td>\n",
       "      <td>...</td>\n",
       "      <td>...</td>\n",
       "      <td>...</td>\n",
       "      <td>...</td>\n",
       "      <td>...</td>\n",
       "      <td>...</td>\n",
       "      <td>...</td>\n",
       "      <td>...</td>\n",
       "      <td>...</td>\n",
       "    </tr>\n",
       "    <tr>\n",
       "      <th>259</th>\n",
       "      <td>2022-08-01</td>\n",
       "      <td>301.596</td>\n",
       "      <td>2022</td>\n",
       "      <td>8</td>\n",
       "      <td>3.7</td>\n",
       "      <td>2.76</td>\n",
       "      <td>295.320</td>\n",
       "      <td>342.753</td>\n",
       "      <td>207370651.0</td>\n",
       "      <td>295.320</td>\n",
       "      <td>78250.000000</td>\n",
       "      <td>131202</td>\n",
       "      <td>74580.0</td>\n",
       "      <td>48.021</td>\n",
       "      <td>17.128121</td>\n",
       "      <td>17.128121</td>\n",
       "    </tr>\n",
       "    <tr>\n",
       "      <th>260</th>\n",
       "      <td>2022-09-01</td>\n",
       "      <td>299.380</td>\n",
       "      <td>2022</td>\n",
       "      <td>9</td>\n",
       "      <td>3.5</td>\n",
       "      <td>3.21</td>\n",
       "      <td>296.539</td>\n",
       "      <td>336.464</td>\n",
       "      <td>207453580.5</td>\n",
       "      <td>296.539</td>\n",
       "      <td>78625.000000</td>\n",
       "      <td>131202</td>\n",
       "      <td>74580.0</td>\n",
       "      <td>48.021</td>\n",
       "      <td>17.128121</td>\n",
       "      <td>17.128121</td>\n",
       "    </tr>\n",
       "    <tr>\n",
       "      <th>261</th>\n",
       "      <td>2022-10-01</td>\n",
       "      <td>298.922</td>\n",
       "      <td>2022</td>\n",
       "      <td>10</td>\n",
       "      <td>3.7</td>\n",
       "      <td>3.85</td>\n",
       "      <td>297.987</td>\n",
       "      <td>333.796</td>\n",
       "      <td>207431164.7</td>\n",
       "      <td>297.987</td>\n",
       "      <td>79000.000000</td>\n",
       "      <td>131202</td>\n",
       "      <td>74580.0</td>\n",
       "      <td>48.021</td>\n",
       "      <td>17.128121</td>\n",
       "      <td>17.128121</td>\n",
       "    </tr>\n",
       "    <tr>\n",
       "      <th>262</th>\n",
       "      <td>2022-11-01</td>\n",
       "      <td>298.312</td>\n",
       "      <td>2022</td>\n",
       "      <td>11</td>\n",
       "      <td>3.6</td>\n",
       "      <td>4.46</td>\n",
       "      <td>298.598</td>\n",
       "      <td>330.369</td>\n",
       "      <td>207521914.2</td>\n",
       "      <td>298.598</td>\n",
       "      <td>79375.333333</td>\n",
       "      <td>131202</td>\n",
       "      <td>74580.0</td>\n",
       "      <td>48.021</td>\n",
       "      <td>17.128121</td>\n",
       "      <td>17.128121</td>\n",
       "    </tr>\n",
       "    <tr>\n",
       "      <th>263</th>\n",
       "      <td>2022-12-01</td>\n",
       "      <td>297.471</td>\n",
       "      <td>2022</td>\n",
       "      <td>12</td>\n",
       "      <td>3.5</td>\n",
       "      <td>4.51</td>\n",
       "      <td>298.990</td>\n",
       "      <td>326.449</td>\n",
       "      <td>207524486.3</td>\n",
       "      <td>298.990</td>\n",
       "      <td>79750.666667</td>\n",
       "      <td>131202</td>\n",
       "      <td>74580.0</td>\n",
       "      <td>48.021</td>\n",
       "      <td>17.128121</td>\n",
       "      <td>17.128121</td>\n",
       "    </tr>\n",
       "  </tbody>\n",
       "</table>\n",
       "<p>263 rows × 16 columns</p>\n",
       "</div>"
      ],
      "text/plain": [
       "          Date  CSUSHPISA  Year  Month  unemp  Interest      CPI  \\\n",
       "0   2001-01-01    109.846  2001      1    4.2      5.62  175.600   \n",
       "1   2001-02-01    110.500  2001      2    4.2      5.26  176.000   \n",
       "2   2001-03-01    111.109  2001      3    4.3      4.89  176.100   \n",
       "3   2001-04-01    111.652  2001      4    4.4      4.53  176.400   \n",
       "4   2001-05-01    112.164  2001      5    4.3      4.02  177.300   \n",
       "..         ...        ...   ...    ...    ...       ...      ...   \n",
       "259 2022-08-01    301.596  2022      8    3.7      2.76  295.320   \n",
       "260 2022-09-01    299.380  2022      9    3.5      3.21  296.539   \n",
       "261 2022-10-01    298.922  2022     10    3.7      3.85  297.987   \n",
       "262 2022-11-01    298.312  2022     11    3.6      4.46  298.598   \n",
       "263 2022-12-01    297.471  2022     12    3.5      4.51  298.990   \n",
       "\n",
       "     const_price_index  working_pop   Houses  per_capita_GDP  Num_household  \\\n",
       "0              142.000  180416623.5  175.600    36845.000000         108209   \n",
       "1              142.400  180577730.8  176.000    36967.000000         108209   \n",
       "2              142.400  180636104.8  176.100    37089.000000         108209   \n",
       "3              142.500  180905518.2  176.400    37211.000000         108209   \n",
       "4              144.200  181014608.3  177.300    37177.333333         108209   \n",
       "..                 ...          ...      ...             ...            ...   \n",
       "259            342.753  207370651.0  295.320    78250.000000         131202   \n",
       "260            336.464  207453580.5  296.539    78625.000000         131202   \n",
       "261            333.796  207431164.7  297.987    79000.000000         131202   \n",
       "262            330.369  207521914.2  298.598    79375.333333         131202   \n",
       "263            326.449  207524486.3  298.990    79750.666667         131202   \n",
       "\n",
       "      Income  Subsidy  Urban_pop    Old_pop  \n",
       "0    66360.0   20.573  12.296945  12.296945  \n",
       "1    66360.0   20.573  12.296945  12.296945  \n",
       "2    66360.0   20.573  12.296945  12.296945  \n",
       "3    66360.0   20.573  12.296945  12.296945  \n",
       "4    66360.0   20.573  12.296945  12.296945  \n",
       "..       ...      ...        ...        ...  \n",
       "259  74580.0   48.021  17.128121  17.128121  \n",
       "260  74580.0   48.021  17.128121  17.128121  \n",
       "261  74580.0   48.021  17.128121  17.128121  \n",
       "262  74580.0   48.021  17.128121  17.128121  \n",
       "263  74580.0   48.021  17.128121  17.128121  \n",
       "\n",
       "[263 rows x 16 columns]"
      ]
     },
     "execution_count": 44,
     "metadata": {},
     "output_type": "execute_result"
    }
   ],
   "source": [
    "df"
   ]
  },
  {
   "cell_type": "code",
   "execution_count": 304,
   "id": "f9270112",
   "metadata": {},
   "outputs": [],
   "source": [
    "df.to_csv('data preparation.csv', index=False)"
   ]
  },
  {
   "cell_type": "code",
   "execution_count": null,
   "id": "52383614",
   "metadata": {},
   "outputs": [],
   "source": []
  }
 ],
 "metadata": {
  "kernelspec": {
   "display_name": "Python 3 (ipykernel)",
   "language": "python",
   "name": "python3"
  },
  "language_info": {
   "codemirror_mode": {
    "name": "ipython",
    "version": 3
   },
   "file_extension": ".py",
   "mimetype": "text/x-python",
   "name": "python",
   "nbconvert_exporter": "python",
   "pygments_lexer": "ipython3",
   "version": "3.9.13"
  }
 },
 "nbformat": 4,
 "nbformat_minor": 5
}
